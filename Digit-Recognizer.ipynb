{
 "cells": [
  {
   "cell_type": "code",
   "execution_count": 1,
   "id": "61c44f7b",
   "metadata": {
    "_cell_guid": "b1076dfc-b9ad-4769-8c92-a6c4dae69d19",
    "_uuid": "8f2839f25d086af736a60e9eeb907d3b93b6e0e5",
    "execution": {
     "iopub.execute_input": "2025-02-04T19:21:03.452614Z",
     "iopub.status.busy": "2025-02-04T19:21:03.452178Z",
     "iopub.status.idle": "2025-02-04T19:21:03.464456Z",
     "shell.execute_reply": "2025-02-04T19:21:03.463126Z"
    },
    "papermill": {
     "duration": 0.020139,
     "end_time": "2025-02-04T19:21:03.466938",
     "exception": false,
     "start_time": "2025-02-04T19:21:03.446799",
     "status": "completed"
    },
    "tags": []
   },
   "outputs": [
    {
     "name": "stdout",
     "output_type": "stream",
     "text": [
      "/kaggle/input/digit-recognizer/sample_submission.csv\n",
      "/kaggle/input/digit-recognizer/train.csv\n",
      "/kaggle/input/digit-recognizer/test.csv\n"
     ]
    }
   ],
   "source": [
    "import os\n",
    "for dirname, _, filenames in os.walk('/kaggle/input'):\n",
    "    for filename in filenames:\n",
    "        print(os.path.join(dirname, filename))"
   ]
  },
  {
   "cell_type": "code",
   "execution_count": 2,
   "id": "8f0dce74",
   "metadata": {
    "execution": {
     "iopub.execute_input": "2025-02-04T19:21:03.475719Z",
     "iopub.status.busy": "2025-02-04T19:21:03.475328Z",
     "iopub.status.idle": "2025-02-04T19:21:09.857881Z",
     "shell.execute_reply": "2025-02-04T19:21:09.856909Z"
    },
    "papermill": {
     "duration": 6.389686,
     "end_time": "2025-02-04T19:21:09.860334",
     "exception": false,
     "start_time": "2025-02-04T19:21:03.470648",
     "status": "completed"
    },
    "tags": []
   },
   "outputs": [],
   "source": [
    "import pandas as pd\n",
    "import numpy as np\n",
    "import matplotlib.pyplot as plt\n",
    "import torchvision.transforms as transforms\n",
    "from torch.utils.data import random_split, DataLoader, TensorDataset\n",
    "import torch\n",
    "import torch.nn as nn\n",
    "import torch.optim as optim\n",
    "import torch.nn.functional as F"
   ]
  },
  {
   "cell_type": "code",
   "execution_count": 3,
   "id": "9d4f1195",
   "metadata": {
    "execution": {
     "iopub.execute_input": "2025-02-04T19:21:09.868836Z",
     "iopub.status.busy": "2025-02-04T19:21:09.868335Z",
     "iopub.status.idle": "2025-02-04T19:21:14.542403Z",
     "shell.execute_reply": "2025-02-04T19:21:14.541085Z"
    },
    "papermill": {
     "duration": 4.680989,
     "end_time": "2025-02-04T19:21:14.544757",
     "exception": false,
     "start_time": "2025-02-04T19:21:09.863768",
     "status": "completed"
    },
    "tags": []
   },
   "outputs": [
    {
     "name": "stdout",
     "output_type": "stream",
     "text": [
      "<class 'pandas.core.frame.DataFrame'>\n",
      "RangeIndex: 42000 entries, 0 to 41999\n",
      "Columns: 785 entries, label to pixel783\n",
      "dtypes: int64(785)\n",
      "memory usage: 251.5 MB\n"
     ]
    },
    {
     "data": {
      "text/plain": [
       "42000"
      ]
     },
     "execution_count": 3,
     "metadata": {},
     "output_type": "execute_result"
    }
   ],
   "source": [
    "train_data = pd.read_csv('/kaggle/input/digit-recognizer/train.csv')\n",
    "test_data = pd.read_csv('/kaggle/input/digit-recognizer/test.csv')\n",
    "\n",
    "train_data.info()\n",
    "\n",
    "train_data.shape[0]\n",
    "#there is one image for each row, so there are 42000 images in the train dataset"
   ]
  },
  {
   "cell_type": "code",
   "execution_count": 4,
   "id": "90591e54",
   "metadata": {
    "execution": {
     "iopub.execute_input": "2025-02-04T19:21:14.553819Z",
     "iopub.status.busy": "2025-02-04T19:21:14.553426Z",
     "iopub.status.idle": "2025-02-04T19:21:14.779485Z",
     "shell.execute_reply": "2025-02-04T19:21:14.778237Z"
    },
    "papermill": {
     "duration": 0.233273,
     "end_time": "2025-02-04T19:21:14.781828",
     "exception": false,
     "start_time": "2025-02-04T19:21:14.548555",
     "status": "completed"
    },
    "tags": []
   },
   "outputs": [
    {
     "data": {
      "image/png": "[encoded data removed]",
      "text/plain": [
       "<Figure size 640x480 with 1 Axes>"
      ]
     },
     "metadata": {},
     "output_type": "display_data"
    }
   ],
   "source": [
    "# Select the first image (excluding the label column)\n",
    "sample_image = train_data.iloc[0, 1:].values  \n",
    "# Take all columns and reshape to 28x28 matrix\n",
    "sample_image = sample_image.reshape(28, 28)  \n",
    "\n",
    "# Plot the image by mapping each pixel value to a corresponding color on a grayscale.\n",
    "# Lower value = darker color.\n",
    "plt.imshow(sample_image, cmap='gray')\n",
    "plt.title(f\"The first image drawn is {train_data.iloc[0, 0]}\")\n",
    "plt.show()"
   ]
  },
  {
   "cell_type": "code",
   "execution_count": 5,
   "id": "a3b2fd2c",
   "metadata": {
    "execution": {
     "iopub.execute_input": "2025-02-04T19:21:14.791059Z",
     "iopub.status.busy": "2025-02-04T19:21:14.790672Z",
     "iopub.status.idle": "2025-02-04T19:21:14.795761Z",
     "shell.execute_reply": "2025-02-04T19:21:14.794748Z"
    },
    "papermill": {
     "duration": 0.012054,
     "end_time": "2025-02-04T19:21:14.797723",
     "exception": false,
     "start_time": "2025-02-04T19:21:14.785669",
     "status": "completed"
    },
    "tags": []
   },
   "outputs": [],
   "source": [
    "rotation_data_augmentation = 45\n",
    "batch_size = 128\n",
    "num_epochs = 10\n",
    "learning_rate = 0.001"
   ]
  },
  {
   "cell_type": "code",
   "execution_count": 6,
   "id": "24f89d0f",
   "metadata": {
    "execution": {
     "iopub.execute_input": "2025-02-04T19:21:14.807298Z",
     "iopub.status.busy": "2025-02-04T19:21:14.806897Z",
     "iopub.status.idle": "2025-02-04T19:21:15.101929Z",
     "shell.execute_reply": "2025-02-04T19:21:15.100455Z"
    },
    "papermill": {
     "duration": 0.30244,
     "end_time": "2025-02-04T19:21:15.104219",
     "exception": false,
     "start_time": "2025-02-04T19:21:14.801779",
     "status": "completed"
    },
    "tags": []
   },
   "outputs": [
    {
     "name": "stdout",
     "output_type": "stream",
     "text": [
      "Training samples: 33600, Validation samples: 8400\n"
     ]
    }
   ],
   "source": [
    "# Implementing data augmentation\n",
    "\n",
    "# Extract images and labels\n",
    "labels = torch.tensor(train_data.iloc[:, 0].values, dtype=torch.long)  # First column is labels\n",
    "images = train_data.iloc[:, 1:].values.reshape(-1, 1, 28, 28).astype(np.uint8)/255.0  # Reshape images to (N, 1, 28, 28)\n",
    "images = torch.tensor(images, dtype=torch.float32)  # Convert to PyTorch tensor\n",
    "\n",
    "train_transform = transforms.Compose([\n",
    "    transforms.RandomRotation(degrees=rotation_data_augmentation),\n",
    "    transforms.RandomErasing(p=0.3, scale=(0.02, 0.2), ratio=(0.3, 3.3)),\n",
    "    #transforms.RandomAffine(degrees=0, translate=(0.1, 0.1)),\n",
    "    transforms.RandomHorizontalFlip(),\n",
    "    #transforms.Normalize((0.5,), (0.5,))\n",
    "])\n",
    "\n",
    "# We don't want to augment the validation set\n",
    "val_transform = transforms.Compose([\n",
    "    #transforms.Normalize((0.5,), (0.5,))  # No augmentation for validation\n",
    "])\n",
    "\n",
    "class AugmentedDataset(torch.utils.data.Dataset):\n",
    "    def __init__(self, images, labels, transform=None):\n",
    "        self.images = images\n",
    "        self.labels = labels\n",
    "        self.transform = transform\n",
    "\n",
    "    def __len__(self):\n",
    "        return len(self.images)\n",
    "\n",
    "    def __getitem__(self, idx):\n",
    "        image = self.images[idx]\n",
    "        if self.transform:\n",
    "            image = self.transform(image)  # Apply transformation\n",
    "        return image, self.labels[idx]\n",
    "\n",
    "# Create dataset with augmentation\n",
    "# train_dataset = AugmentedDataset(images, labels, transform=train_transform)\n",
    "# From the 42000 training examples we create batches of size 64. After each epoch (once we train the model once through all examples)\n",
    "# The new epoch will see randomly rotation images from the train dataset. \n",
    "#train_loader = DataLoader(train_dataset, batch_size=64, shuffle=True)\n",
    "\n",
    "full_dataset = AugmentedDataset(images, labels, transform=train_transform)\n",
    "\n",
    "train_size = int(0.8 * len(full_dataset))\n",
    "val_size = len(full_dataset) - train_size\n",
    "\n",
    "train_dataset, val_dataset = random_split(full_dataset, [train_size, val_size])\n",
    "\n",
    "val_dataset.dataset.transform = val_transform\n",
    "\n",
    "train_loader = DataLoader(train_dataset, batch_size=64, shuffle=True)\n",
    "val_loader = DataLoader(val_dataset, batch_size=64, shuffle=False)\n",
    "\n",
    "print(f\"Training samples: {len(train_dataset)}, Validation samples: {len(val_dataset)}\")"
   ]
  },
  {
   "cell_type": "code",
   "execution_count": 7,
   "id": "39d7c3c6",
   "metadata": {
    "execution": {
     "iopub.execute_input": "2025-02-04T19:21:15.114800Z",
     "iopub.status.busy": "2025-02-04T19:21:15.113761Z",
     "iopub.status.idle": "2025-02-04T19:21:15.123393Z",
     "shell.execute_reply": "2025-02-04T19:21:15.122284Z"
    },
    "papermill": {
     "duration": 0.017107,
     "end_time": "2025-02-04T19:21:15.125443",
     "exception": false,
     "start_time": "2025-02-04T19:21:15.108336",
     "status": "completed"
    },
    "tags": []
   },
   "outputs": [],
   "source": [
    "# We now create a class which inherits the properties of nn.Module.\n",
    "# This class will define the layers and operations the model will use.\n",
    "\n",
    "class DigitModel(nn.Module):\n",
    "    def __init__(self):\n",
    "        super(DigitModel, self).__init__()\n",
    "        \n",
    "        self.conv1 = nn.Conv2d(1, 32, kernel_size=3, stride=1, padding=1)\n",
    "        self.bn1 = nn.BatchNorm2d(32)\n",
    "\n",
    "        self.conv2 = nn.Conv2d(32, 64, kernel_size=3, stride=1, padding=1)\n",
    "        self.bn2 = nn.BatchNorm2d(64)\n",
    "\n",
    "        self.conv3 = nn.Conv2d(64, 128, kernel_size=3, stride=1, padding=1)\n",
    "        self.bn3 = nn.BatchNorm2d(128)\n",
    "\n",
    "        self.pool = nn.MaxPool2d(kernel_size=2, stride=2)\n",
    "        self.fc1 = nn.Linear(128*3*3, 128)  \n",
    "        self.dropout1 = nn.Dropout(0.5)\n",
    "        self.fc2 = nn.Linear(128, 10)\n",
    "        #self.dropout2 = nn.Dropout(0.3)\n",
    "        #self.fc3 = nn.Linear(84, 10)\n",
    "        \n",
    "\n",
    "    def forward(self, x):\n",
    "        x = self.pool(F.relu(self.bn1(self.conv1(x))))\n",
    "        x = self.pool(F.relu(self.bn2(self.conv2(x))))\n",
    "        x = self.pool(F.relu(self.bn3(self.conv3(x))))\n",
    "        #x = self.global_avg_pool(x)  \n",
    "        #x = torch.flatten(x, start_dim=1)\n",
    "        \n",
    "        x = x.view(x.size(0), -1)\n",
    "        x = F.relu(self.fc1(x))\n",
    "        x = self.dropout1(x)\n",
    "        x = self.fc2(x)\n",
    "        #x = F.relu(self.fc2(x))\n",
    "        #x = self.dropout2(x)\n",
    "        #x = self.fc3(x)\n",
    "        return x"
   ]
  },
  {
   "cell_type": "code",
   "execution_count": 8,
   "id": "d0bcdf5d",
   "metadata": {
    "execution": {
     "iopub.execute_input": "2025-02-04T19:21:15.134899Z",
     "iopub.status.busy": "2025-02-04T19:21:15.134504Z",
     "iopub.status.idle": "2025-02-04T19:21:15.183373Z",
     "shell.execute_reply": "2025-02-04T19:21:15.182285Z"
    },
    "papermill": {
     "duration": 0.056388,
     "end_time": "2025-02-04T19:21:15.185832",
     "exception": false,
     "start_time": "2025-02-04T19:21:15.129444",
     "status": "completed"
    },
    "tags": []
   },
   "outputs": [],
   "source": [
    "device = torch.device(\"cuda\" if torch.cuda.is_available() else \"cpu\")\n",
    "model = DigitModel().to(device)\n",
    "\n",
    "criterion = nn.CrossEntropyLoss()\n",
    "optimizer = optim.Adam(model.parameters(), learning_rate, weight_decay=1e-3)\n",
    "scheduler = torch.optim.lr_scheduler.StepLR(optimizer, step_size=2, gamma=0.5)\n",
    "\n",
    "def evaluate(model, val_loader, criterion):\n",
    "    model.eval()  # Set model to evaluation mode (disables dropout & batch norm updates)\n",
    "    val_loss = 0\n",
    "    correct = 0\n",
    "    total = 0\n",
    "\n",
    "    with torch.no_grad():  # No gradient calculation for validation (faster & saves memory)\n",
    "        for images, labels in val_loader:\n",
    "            images, labels = images.to(device), labels.to(device)  # Move to GPU if available\n",
    "            outputs = model(images)\n",
    "            loss = criterion(outputs, labels)\n",
    "            val_loss += loss.item()\n",
    "\n",
    "            _, predicted = torch.max(outputs, 1)  # Get predicted class\n",
    "            total += labels.size(0)\n",
    "            correct += (predicted == labels).sum().item()\n",
    "\n",
    "    val_loss /= len(val_loader)  # Compute average loss\n",
    "    val_acc = 100 * correct / total  # Compute accuracy\n",
    "    return val_loss, val_acc"
   ]
  },
  {
   "cell_type": "code",
   "execution_count": 9,
   "id": "c75f5651",
   "metadata": {
    "execution": {
     "iopub.execute_input": "2025-02-04T19:21:15.196098Z",
     "iopub.status.busy": "2025-02-04T19:21:15.195280Z",
     "iopub.status.idle": "2025-02-04T19:28:43.812134Z",
     "shell.execute_reply": "2025-02-04T19:28:43.810787Z"
    },
    "papermill": {
     "duration": 448.628246,
     "end_time": "2025-02-04T19:28:43.818173",
     "exception": false,
     "start_time": "2025-02-04T19:21:15.189927",
     "status": "completed"
    },
    "tags": []
   },
   "outputs": [
    {
     "name": "stdout",
     "output_type": "stream",
     "text": [
      "Epoch [1/10] - Train Loss: 0.2496, Train Acc: 92.48% | Val Loss: 0.0535, Val Acc: 98.21%\n",
      "Epoch [2/10] - Train Loss: 0.0875, Train Acc: 97.49% | Val Loss: 0.0633, Val Acc: 98.05%\n",
      "Epoch [3/10] - Train Loss: 0.0545, Train Acc: 98.49% | Val Loss: 0.0306, Val Acc: 99.11%\n",
      "Epoch [4/10] - Train Loss: 0.0520, Train Acc: 98.56% | Val Loss: 0.0358, Val Acc: 98.92%\n",
      "Epoch [5/10] - Train Loss: 0.0338, Train Acc: 99.07% | Val Loss: 0.0324, Val Acc: 98.96%\n",
      "Epoch [6/10] - Train Loss: 0.0292, Train Acc: 99.26% | Val Loss: 0.0230, Val Acc: 99.21%\n",
      "Epoch [7/10] - Train Loss: 0.0246, Train Acc: 99.35% | Val Loss: 0.0250, Val Acc: 99.19%\n",
      "Epoch [8/10] - Train Loss: 0.0218, Train Acc: 99.42% | Val Loss: 0.0244, Val Acc: 99.25%\n",
      "Epoch [9/10] - Train Loss: 0.0182, Train Acc: 99.60% | Val Loss: 0.0225, Val Acc: 99.27%\n",
      "Epoch [10/10] - Train Loss: 0.0154, Train Acc: 99.66% | Val Loss: 0.0230, Val Acc: 99.33%\n"
     ]
    }
   ],
   "source": [
    "for epoch in range(num_epochs):\n",
    "    model.train()  # Set model to training mode\n",
    "    running_loss = 0.0\n",
    "    correct = 0\n",
    "    total = 0\n",
    "\n",
    "    for images, labels in train_loader:\n",
    "        images, labels = images.to(device), labels.to(device)  # Move batch to GPU\n",
    "\n",
    "        optimizer.zero_grad()\n",
    "        outputs = model(images)  # Forward pass\n",
    "        loss = criterion(outputs, labels)  # Compute loss\n",
    "\n",
    "        loss.backward()  # Backpropagation\n",
    "        optimizer.step()  # Update weights\n",
    "\n",
    "        running_loss += loss.item()\n",
    "        _, predicted = torch.max(outputs, 1)\n",
    "        total += labels.size(0)\n",
    "        correct += (predicted == labels).sum().item()\n",
    "\n",
    "    scheduler.step()\n",
    "\n",
    "    train_loss = running_loss / len(train_loader)\n",
    "    train_acc = 100 * correct / total\n",
    "\n",
    "    \n",
    "    val_loss, val_acc = evaluate(model, val_loader, criterion)\n",
    "\n",
    "    print(f\"Epoch [{epoch+1}/{num_epochs}] - Train Loss: {train_loss:.4f}, Train Acc: {train_acc:.2f}% | Val Loss: {val_loss:.4f}, Val Acc: {val_acc:.2f}%\")"
   ]
  },
  {
   "cell_type": "code",
   "execution_count": 10,
   "id": "dea0e498",
   "metadata": {
    "execution": {
     "iopub.execute_input": "2025-02-04T19:28:43.828646Z",
     "iopub.status.busy": "2025-02-04T19:28:43.828260Z",
     "iopub.status.idle": "2025-02-04T19:29:01.932594Z",
     "shell.execute_reply": "2025-02-04T19:29:01.931415Z"
    },
    "papermill": {
     "duration": 18.112313,
     "end_time": "2025-02-04T19:29:01.934878",
     "exception": false,
     "start_time": "2025-02-04T19:28:43.822565",
     "status": "completed"
    },
    "tags": []
   },
   "outputs": [
    {
     "name": "stdout",
     "output_type": "stream",
     "text": [
      "Submission file saved as submission.csv\n"
     ]
    }
   ],
   "source": [
    "test_data = pd.read_csv('/kaggle/input/digit-recognizer/test.csv')\n",
    "test_images = torch.tensor(test_data.values.reshape(-1, 1, 28, 28), dtype=torch.float32)/255.0\n",
    "test_loader = DataLoader(test_images, batch_size=64, shuffle=False)\n",
    "\n",
    "model.eval()  # Set model to evaluation mode\n",
    "predictions = []\n",
    "\n",
    "with torch.no_grad():  # No gradients needed during inference\n",
    "    for images in test_loader:\n",
    "        outputs = model(images)  # Forward pass\n",
    "        _, predicted = torch.max(outputs, 1)  # Get predicted class\n",
    "        predictions.extend(predicted.cpu().numpy())  # Store predictions\n",
    "\n",
    "submission = pd.DataFrame({'ImageId': np.arange(1, len(predictions) + 1), 'Label': predictions})\n",
    "submission.to_csv('submission.csv', index=False)\n",
    "\n",
    "print(\"Submission file saved as submission.csv\")"
   ]
  },
  {
   "cell_type": "markdown",
   "id": "5894190a",
   "metadata": {
    "papermill": {
     "duration": 0.004372,
     "end_time": "2025-02-04T19:29:01.943830",
     "exception": false,
     "start_time": "2025-02-04T19:29:01.939458",
     "status": "completed"
    },
    "tags": []
   },
   "source": [
    "# "
   ]
  }
 ],
 "metadata": {
  "kaggle": {
   "accelerator": "none",
   "dataSources": [
    {
     "databundleVersionId": 861823,
     "sourceId": 3004,
     "sourceType": "competition"
    }
   ],
   "dockerImageVersionId": 30786,
   "isGpuEnabled": false,
   "isInternetEnabled": false,
   "language": "python",
   "sourceType": "notebook"
  },
  "kernelspec": {
   "display_name": "Python 3",
   "language": "python",
   "name": "python3"
  },
  "language_info": {
   "codemirror_mode": {
    "name": "ipython",
    "version": 3
   },
   "file_extension": ".py",
   "mimetype": "text/x-python",
   "name": "python",
   "nbconvert_exporter": "python",
   "pygments_lexer": "ipython3",
   "version": "3.10.14"
  },
  "papermill": {
   "default_parameters": {},
   "duration": 483.260835,
   "end_time": "2025-02-04T19:29:03.071973",
   "environment_variables": {},
   "exception": null,
   "input_path": "__notebook__.ipynb",
   "output_path": "__notebook__.ipynb",
   "parameters": {},
   "start_time": "2025-02-04T19:20:59.811138",
   "version": "2.6.0"
  }
 },
 "nbformat": 4,
 "nbformat_minor": 5
}
